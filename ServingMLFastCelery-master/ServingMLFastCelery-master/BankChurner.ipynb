{
  "nbformat": 4,
  "nbformat_minor": 0,
  "metadata": {
    "colab": {
      "name": "BankChurner",
      "provenance": [],
      "collapsed_sections": [],
      "toc_visible": true
    },
    "kernelspec": {
      "name": "python3",
      "display_name": "Python 3"
    }
  },
  "cells": [
    {
      "cell_type": "markdown",
      "metadata": {
        "id": "sABqw5NBqfJx"
      },
      "source": [
        "Import requirements, and suppress warnings from Sklearn"
      ]
    },
    {
      "cell_type": "code",
      "metadata": {
        "id": "uEQ4NWjugZCM"
      },
      "source": [
        "import warnings\r\n",
        "warnings.filterwarnings(\"ignore\", category=FutureWarning)\r\n",
        "\r\n",
        "import pandas as pd\r\n",
        "import numpy as np\r\n",
        "import seaborn as sns\r\n",
        "import matplotlib.pyplot as plt\r\n",
        "from scipy import stats\r\n",
        "from sklearn.preprocessing import LabelEncoder, OneHotEncoder, StandardScaler\r\n",
        "from sklearn.base import BaseEstimator, TransformerMixin\r\n",
        "from sklearn.pipeline import Pipeline, FeatureUnion\r\n",
        "from sklearn.metrics import precision_score, recall_score, f1_score, plot_confusion_matrix, accuracy_score\r\n",
        "from sklearn.model_selection import train_test_split, GridSearchCV, RandomizedSearchCV, StratifiedKFold\r\n",
        "from sklearn.compose import ColumnTransformer\r\n",
        "from sklearn.externals import joblib\r\n",
        "from imblearn.over_sampling import BorderlineSMOTE\r\n",
        "from imblearn.under_sampling import RandomUnderSampler\r\n",
        "from imblearn.pipeline import Pipeline as pipe_imb\r\n",
        "from xgboost import XGBClassifier\r\n",
        "from lightgbm import LGBMClassifier"
      ],
      "execution_count": null,
      "outputs": []
    },
    {
      "cell_type": "markdown",
      "metadata": {
        "id": "IUK6gLQrqmeQ"
      },
      "source": [
        "Read data and inspect final 5 rows of DataFrame"
      ]
    },
    {
      "cell_type": "code",
      "metadata": {
        "colab": {
          "base_uri": "https://localhost:8080/",
          "height": 301
        },
        "id": "E-Bv_gKPgw0y",
        "outputId": "8d6eb552-41d5-4329-ee07-9a7075bfd602"
      },
      "source": [
        "df = pd.read_csv('drive/MyDrive/BankChurners.csv')\r\n",
        "df.tail()"
      ],
      "execution_count": null,
      "outputs": [
        {
          "output_type": "execute_result",
          "data": {
            "text/html": [
              "<div>\n",
              "<style scoped>\n",
              "    .dataframe tbody tr th:only-of-type {\n",
              "        vertical-align: middle;\n",
              "    }\n",
              "\n",
              "    .dataframe tbody tr th {\n",
              "        vertical-align: top;\n",
              "    }\n",
              "\n",
              "    .dataframe thead th {\n",
              "        text-align: right;\n",
              "    }\n",
              "</style>\n",
              "<table border=\"1\" class=\"dataframe\">\n",
              "  <thead>\n",
              "    <tr style=\"text-align: right;\">\n",
              "      <th></th>\n",
              "      <th>CLIENTNUM</th>\n",
              "      <th>Attrition_Flag</th>\n",
              "      <th>Customer_Age</th>\n",
              "      <th>Gender</th>\n",
              "      <th>Dependent_count</th>\n",
              "      <th>Education_Level</th>\n",
              "      <th>Marital_Status</th>\n",
              "      <th>Income_Category</th>\n",
              "      <th>Card_Category</th>\n",
              "      <th>Months_on_book</th>\n",
              "      <th>Total_Relationship_Count</th>\n",
              "      <th>Months_Inactive_12_mon</th>\n",
              "      <th>Contacts_Count_12_mon</th>\n",
              "      <th>Credit_Limit</th>\n",
              "      <th>Total_Revolving_Bal</th>\n",
              "      <th>Avg_Open_To_Buy</th>\n",
              "      <th>Total_Amt_Chng_Q4_Q1</th>\n",
              "      <th>Total_Trans_Amt</th>\n",
              "      <th>Total_Trans_Ct</th>\n",
              "      <th>Total_Ct_Chng_Q4_Q1</th>\n",
              "      <th>Avg_Utilization_Ratio</th>\n",
              "    </tr>\n",
              "  </thead>\n",
              "  <tbody>\n",
              "    <tr>\n",
              "      <th>10122</th>\n",
              "      <td>772366833</td>\n",
              "      <td>Existing Customer</td>\n",
              "      <td>50</td>\n",
              "      <td>M</td>\n",
              "      <td>2</td>\n",
              "      <td>Graduate</td>\n",
              "      <td>Single</td>\n",
              "      <td>$40K - $60K</td>\n",
              "      <td>Blue</td>\n",
              "      <td>40</td>\n",
              "      <td>3</td>\n",
              "      <td>2</td>\n",
              "      <td>3</td>\n",
              "      <td>4003.0</td>\n",
              "      <td>1851</td>\n",
              "      <td>2152.0</td>\n",
              "      <td>0.703</td>\n",
              "      <td>15476</td>\n",
              "      <td>117</td>\n",
              "      <td>0.857</td>\n",
              "      <td>0.462</td>\n",
              "    </tr>\n",
              "    <tr>\n",
              "      <th>10123</th>\n",
              "      <td>710638233</td>\n",
              "      <td>Attrited Customer</td>\n",
              "      <td>41</td>\n",
              "      <td>M</td>\n",
              "      <td>2</td>\n",
              "      <td>Unknown</td>\n",
              "      <td>Divorced</td>\n",
              "      <td>$40K - $60K</td>\n",
              "      <td>Blue</td>\n",
              "      <td>25</td>\n",
              "      <td>4</td>\n",
              "      <td>2</td>\n",
              "      <td>3</td>\n",
              "      <td>4277.0</td>\n",
              "      <td>2186</td>\n",
              "      <td>2091.0</td>\n",
              "      <td>0.804</td>\n",
              "      <td>8764</td>\n",
              "      <td>69</td>\n",
              "      <td>0.683</td>\n",
              "      <td>0.511</td>\n",
              "    </tr>\n",
              "    <tr>\n",
              "      <th>10124</th>\n",
              "      <td>716506083</td>\n",
              "      <td>Attrited Customer</td>\n",
              "      <td>44</td>\n",
              "      <td>F</td>\n",
              "      <td>1</td>\n",
              "      <td>High School</td>\n",
              "      <td>Married</td>\n",
              "      <td>Less than $40K</td>\n",
              "      <td>Blue</td>\n",
              "      <td>36</td>\n",
              "      <td>5</td>\n",
              "      <td>3</td>\n",
              "      <td>4</td>\n",
              "      <td>5409.0</td>\n",
              "      <td>0</td>\n",
              "      <td>5409.0</td>\n",
              "      <td>0.819</td>\n",
              "      <td>10291</td>\n",
              "      <td>60</td>\n",
              "      <td>0.818</td>\n",
              "      <td>0.000</td>\n",
              "    </tr>\n",
              "    <tr>\n",
              "      <th>10125</th>\n",
              "      <td>717406983</td>\n",
              "      <td>Attrited Customer</td>\n",
              "      <td>30</td>\n",
              "      <td>M</td>\n",
              "      <td>2</td>\n",
              "      <td>Graduate</td>\n",
              "      <td>Unknown</td>\n",
              "      <td>$40K - $60K</td>\n",
              "      <td>Blue</td>\n",
              "      <td>36</td>\n",
              "      <td>4</td>\n",
              "      <td>3</td>\n",
              "      <td>3</td>\n",
              "      <td>5281.0</td>\n",
              "      <td>0</td>\n",
              "      <td>5281.0</td>\n",
              "      <td>0.535</td>\n",
              "      <td>8395</td>\n",
              "      <td>62</td>\n",
              "      <td>0.722</td>\n",
              "      <td>0.000</td>\n",
              "    </tr>\n",
              "    <tr>\n",
              "      <th>10126</th>\n",
              "      <td>714337233</td>\n",
              "      <td>Attrited Customer</td>\n",
              "      <td>43</td>\n",
              "      <td>F</td>\n",
              "      <td>2</td>\n",
              "      <td>Graduate</td>\n",
              "      <td>Married</td>\n",
              "      <td>Less than $40K</td>\n",
              "      <td>Silver</td>\n",
              "      <td>25</td>\n",
              "      <td>6</td>\n",
              "      <td>2</td>\n",
              "      <td>4</td>\n",
              "      <td>10388.0</td>\n",
              "      <td>1961</td>\n",
              "      <td>8427.0</td>\n",
              "      <td>0.703</td>\n",
              "      <td>10294</td>\n",
              "      <td>61</td>\n",
              "      <td>0.649</td>\n",
              "      <td>0.189</td>\n",
              "    </tr>\n",
              "  </tbody>\n",
              "</table>\n",
              "</div>"
            ],
            "text/plain": [
              "       CLIENTNUM     Attrition_Flag  ...  Total_Ct_Chng_Q4_Q1 Avg_Utilization_Ratio\n",
              "10122  772366833  Existing Customer  ...                0.857                 0.462\n",
              "10123  710638233  Attrited Customer  ...                0.683                 0.511\n",
              "10124  716506083  Attrited Customer  ...                0.818                 0.000\n",
              "10125  717406983  Attrited Customer  ...                0.722                 0.000\n",
              "10126  714337233  Attrited Customer  ...                0.649                 0.189\n",
              "\n",
              "[5 rows x 21 columns]"
            ]
          },
          "metadata": {
            "tags": []
          },
          "execution_count": 2
        }
      ]
    },
    {
      "cell_type": "markdown",
      "metadata": {
        "id": "G2HhGAcPqtg4"
      },
      "source": [
        "Inspecting the target label counts we can see this will be an imblanced classification problem."
      ]
    },
    {
      "cell_type": "code",
      "metadata": {
        "colab": {
          "base_uri": "https://localhost:8080/"
        },
        "id": "CFbsLXP5Gje_",
        "outputId": "5446d4ec-10c6-4bf0-8dd3-57443f8d1e00"
      },
      "source": [
        "df['Attrition_Flag'].value_counts()"
      ],
      "execution_count": null,
      "outputs": [
        {
          "output_type": "execute_result",
          "data": {
            "text/plain": [
              "Existing Customer    8500\n",
              "Attrited Customer    1627\n",
              "Name: Attrition_Flag, dtype: int64"
            ]
          },
          "metadata": {
            "tags": []
          },
          "execution_count": 3
        }
      ]
    },
    {
      "cell_type": "markdown",
      "metadata": {
        "id": "P9NBDulMq828"
      },
      "source": [
        "Encode the target label (*Attrition_Flag*) in a seperate array and drop this and *CLIENTNUM* from the feature DataFrame."
      ]
    },
    {
      "cell_type": "code",
      "metadata": {
        "id": "lETUZFiGg9aj"
      },
      "source": [
        "le = LabelEncoder()\r\n",
        "le.classes_ = np.array(['Existing Customer', 'Attrited Customer']) # Override label order so Churn = 1\r\n",
        "y = le.transform(df['Attrition_Flag'])\r\n",
        "df = df.drop(['Attrition_Flag', 'CLIENTNUM'], axis=1)"
      ],
      "execution_count": null,
      "outputs": []
    },
    {
      "cell_type": "markdown",
      "metadata": {
        "id": "pX3DVHP_rwON"
      },
      "source": [
        "Group features into the following:\r\n",
        "\r\n",
        "\r\n",
        "*   Categorical features: Most of these will be one-hot encoded, however if there are only two distinct variables we will binary encode instead\r\n",
        "*   Numerical features: continuous variables that will be scaled during preprocessing\r\n",
        "*   Binary Categorical Features: Categorical features with only two distinct values. Will be binary encoded.\r\n",
        "\r\n"
      ]
    },
    {
      "cell_type": "code",
      "metadata": {
        "id": "kdPr3ZxBjj22"
      },
      "source": [
        "CATEGORICAL_FEATURES = ['Gender','Education_Level', 'Marital_Status', 'Income_Category', 'Card_Category']\r\n",
        "NUMERICAL_FEATURES = [col for col in df.columns if col not in CATEGORICAL_FEATURES]"
      ],
      "execution_count": null,
      "outputs": []
    },
    {
      "cell_type": "markdown",
      "metadata": {
        "id": "erhlfTnRta6X"
      },
      "source": [
        "Preprocessing DataFrame using ColumnTransformer."
      ]
    },
    {
      "cell_type": "code",
      "metadata": {
        "id": "nK4Nb3T14Ws_"
      },
      "source": [
        "preprocessing_pipeline = ColumnTransformer(transformers=[\r\n",
        "    ('num', StandardScaler(), NUMERICAL_FEATURES),\r\n",
        "    ('cat', OneHotEncoder(sparse=False), CATEGORICAL_FEATURES)\r\n",
        "])\r\n",
        "\r\n",
        "df_new = pd.DataFrame(preprocessing_pipeline.fit_transform(df))"
      ],
      "execution_count": null,
      "outputs": []
    },
    {
      "cell_type": "markdown",
      "metadata": {
        "id": "mlwst4Wdt5ax"
      },
      "source": [
        "This code section retrieves feature (column) names for our preprocessed DataFrame. This will be useful for plotting feature importance."
      ]
    },
    {
      "cell_type": "code",
      "metadata": {
        "id": "IhH10Gser4fT"
      },
      "source": [
        "l_transformers = list(preprocessing_pipeline._iter(fitted=True))\r\n",
        "column_names = []\r\n",
        "for name, trans, column, _ in l_transformers:\r\n",
        "  if hasattr(trans, 'get_feature_names'):\r\n",
        "    column_names.extend(trans.get_feature_names(column))\r\n",
        "  else:\r\n",
        "    column_names.extend(column)"
      ],
      "execution_count": null,
      "outputs": []
    },
    {
      "cell_type": "markdown",
      "metadata": {
        "id": "tXPOYUJNuPOH"
      },
      "source": [
        "Standard Train-Test split."
      ]
    },
    {
      "cell_type": "code",
      "metadata": {
        "id": "0s-3MQVkFi1K"
      },
      "source": [
        "X_train, X_test, y_train, y_test = train_test_split(df_new, y, test_size=0.2, random_state=11)"
      ],
      "execution_count": null,
      "outputs": []
    },
    {
      "cell_type": "markdown",
      "metadata": {
        "id": "o5YH1GMavCmF"
      },
      "source": [
        "### Model Training and Tuning\r\n",
        "\r\n",
        "We are using a combination of minority over-sampling (BorderlineSMOTE) and majority random under-sampling to tackle the target class imbalance.\r\n",
        "\r\n",
        "Model architecture: LightGBM\r\n",
        "\r\n",
        "First step is a 5-fold randomized hyper-parmater search for the LGBM paramaters. We fix learning rate (0.03) and n_estimators (100).\r\n",
        "\r\n",
        "F1 Scoring is used based on target class balance and business problem."
      ]
    },
    {
      "cell_type": "code",
      "metadata": {
        "id": "5yiTNG73F4uv",
        "colab": {
          "base_uri": "https://localhost:8080/"
        },
        "outputId": "ea9728eb-9a0a-4fff-fd64-57ae1c45a9dc"
      },
      "source": [
        "sm = BorderlineSMOTE(sampling_strategy=0.3)\r\n",
        "rus = RandomUnderSampler(sampling_strategy=0.6)\r\n",
        "\r\n",
        "lgb = LGBMClassifier(objective = 'binary')\r\n",
        "train_pipeline = pipe_imb([('sm', sm), ('rus', rus), ('clf', lgb)])\r\n",
        "param_dist = {'clf__n_estimators': [100],\r\n",
        "              'clf__learning_rate': [0.03],\r\n",
        "              'clf__subsample': [i/10.0 for i in range(6,10)],\r\n",
        "              'clf__max_depth': [3, 4, 5, 6],\r\n",
        "              'clf__colsample_bytree': [i/10.0 for i in range(6,10)],\r\n",
        "              'clf__min_child_weight': range(1,6,2)\r\n",
        "             }\r\n",
        "\r\n",
        "clf = RandomizedSearchCV(train_pipeline, \r\n",
        "                         param_distributions = param_dist,\r\n",
        "                         cv = 5,  \r\n",
        "                         n_iter = 20,  \r\n",
        "                         scoring = 'f1', \r\n",
        "                         error_score = 0, \r\n",
        "                         verbose = 3, \r\n",
        "                         n_jobs = -1)\r\n",
        "\r\n",
        "clf.fit(X_train.values, y_train)"
      ],
      "execution_count": null,
      "outputs": [
        {
          "output_type": "stream",
          "text": [
            "Fitting 5 folds for each of 20 candidates, totalling 100 fits\n"
          ],
          "name": "stdout"
        },
        {
          "output_type": "stream",
          "text": [
            "[Parallel(n_jobs=-1)]: Using backend LokyBackend with 2 concurrent workers.\n",
            "[Parallel(n_jobs=-1)]: Done  28 tasks      | elapsed:   21.2s\n",
            "[Parallel(n_jobs=-1)]: Done 100 out of 100 | elapsed:  1.1min finished\n"
          ],
          "name": "stderr"
        },
        {
          "output_type": "execute_result",
          "data": {
            "text/plain": [
              "RandomizedSearchCV(cv=5, error_score=0,\n",
              "                   estimator=Pipeline(memory=None,\n",
              "                                      steps=[('sm',\n",
              "                                              BorderlineSMOTE(k_neighbors=5,\n",
              "                                                              kind='borderline-1',\n",
              "                                                              m_neighbors=10,\n",
              "                                                              n_jobs=1,\n",
              "                                                              random_state=None,\n",
              "                                                              sampling_strategy=0.3)),\n",
              "                                             ('rus',\n",
              "                                              RandomUnderSampler(random_state=None,\n",
              "                                                                 ratio=None,\n",
              "                                                                 replacement=False,\n",
              "                                                                 return_indices=False,\n",
              "                                                                 sampling_strategy=0.6)),\n",
              "                                             ('clf',\n",
              "                                              LGBMClassifier(boosting_typ...\n",
              "                   iid='deprecated', n_iter=20, n_jobs=-1,\n",
              "                   param_distributions={'clf__colsample_bytree': [0.6, 0.7, 0.8,\n",
              "                                                                  0.9],\n",
              "                                        'clf__learning_rate': [0.03],\n",
              "                                        'clf__max_depth': [3, 4, 5, 6],\n",
              "                                        'clf__min_child_weight': range(1, 6, 2),\n",
              "                                        'clf__n_estimators': [100],\n",
              "                                        'clf__subsample': [0.6, 0.7, 0.8, 0.9]},\n",
              "                   pre_dispatch='2*n_jobs', random_state=None, refit=True,\n",
              "                   return_train_score=False, scoring='f1', verbose=3)"
            ]
          },
          "metadata": {
            "tags": []
          },
          "execution_count": 9
        }
      ]
    },
    {
      "cell_type": "code",
      "metadata": {
        "colab": {
          "base_uri": "https://localhost:8080/"
        },
        "id": "J1P024W9E6AJ",
        "outputId": "e6017ecf-d6eb-4bc1-c53f-0d6001735fd6"
      },
      "source": [
        "clf.best_score_, clf.best_params_"
      ],
      "execution_count": null,
      "outputs": [
        {
          "output_type": "execute_result",
          "data": {
            "text/plain": [
              "(0.8752511926962345,\n",
              " {'clf__colsample_bytree': 0.6,\n",
              "  'clf__learning_rate': 0.03,\n",
              "  'clf__max_depth': 6,\n",
              "  'clf__min_child_weight': 1,\n",
              "  'clf__n_estimators': 100,\n",
              "  'clf__subsample': 0.8})"
            ]
          },
          "metadata": {
            "tags": []
          },
          "execution_count": 10
        }
      ]
    },
    {
      "cell_type": "markdown",
      "metadata": {
        "id": "WX_DPFGWwWkN"
      },
      "source": [
        "Custom evaluation metric for use in the next section."
      ]
    },
    {
      "cell_type": "code",
      "metadata": {
        "id": "nxGpf9a597TR"
      },
      "source": [
        "def lgb_f1_score(y_hat, data):\r\n",
        "    y_true = np.where(data > 0.5, 1, 0)\r\n",
        "    return 'f1', f1_score(y_true, y_hat), True"
      ],
      "execution_count": null,
      "outputs": []
    },
    {
      "cell_type": "markdown",
      "metadata": {
        "id": "iMiJnaC0wcVx"
      },
      "source": [
        "Using the best parameters from the random search, we increase n_estimators and use the LGBM early stopping implementation to optimise this parameter.\r\n",
        "\r\n",
        "5-fold stratified CV is used with our custom f1 eval metric defined above."
      ]
    },
    {
      "cell_type": "code",
      "metadata": {
        "colab": {
          "base_uri": "https://localhost:8080/"
        },
        "id": "cdVCIzyYHTvb",
        "outputId": "cec7edd3-3909-4c04-9a3d-0aeed32d99ab"
      },
      "source": [
        "lgbm =  clf.best_estimator_.steps[-1][-1]\r\n",
        "params = {'learning_rate':0.03, 'n_estimators':5000}\r\n",
        "lgbm.set_params(**params)\r\n",
        "train_pipeline_es = pipe_imb([('sm', sm), ('rus', rus), ('clf', lgbm)])\r\n",
        "\r\n",
        "kf= StratifiedKFold(shuffle = True)\r\n",
        "\r\n",
        "stopping_rounds = []\r\n",
        "\r\n",
        "for train_index, test_index in kf.split(X_train, y_train):\r\n",
        "  X_train2, X_val = X_train.values[train_index], X_train.values[test_index]\r\n",
        "  y_train2, y_val = y_train[train_index], y_train[test_index]\r\n",
        "\r\n",
        "  fit_params={\"clf__early_stopping_rounds\":50, \r\n",
        "            \"clf__eval_metric\" : lgb_f1_score, \r\n",
        "            \"clf__eval_set\" : [[X_val, y_val]],\r\n",
        "            \"clf__verbose\": 25}\r\n",
        "\r\n",
        "\r\n",
        "  train_pipeline_es.fit(X_train2, y_train2, **fit_params)\r\n",
        "\r\n",
        "  stopping_rounds.append(train_pipeline_es.steps[-1][-1].booster_.best_iteration)\r\n"
      ],
      "execution_count": null,
      "outputs": [
        {
          "output_type": "stream",
          "text": [
            "Training until validation scores don't improve for 50 rounds.\n",
            "[25]\tvalid_0's binary_logloss: 0.325122\tvalid_0's f1: 0.870588\n",
            "[50]\tvalid_0's binary_logloss: 0.233864\tvalid_0's f1: 0.855019\n",
            "[75]\tvalid_0's binary_logloss: 0.183158\tvalid_0's f1: 0.865672\n",
            "Early stopping, best iteration is:\n",
            "[25]\tvalid_0's binary_logloss: 0.325122\tvalid_0's f1: 0.870588\n",
            "Training until validation scores don't improve for 50 rounds.\n",
            "[25]\tvalid_0's binary_logloss: 0.323874\tvalid_0's f1: 0.862669\n",
            "[50]\tvalid_0's binary_logloss: 0.22842\tvalid_0's f1: 0.865672\n",
            "[75]\tvalid_0's binary_logloss: 0.175363\tvalid_0's f1: 0.877778\n",
            "[100]\tvalid_0's binary_logloss: 0.144081\tvalid_0's f1: 0.895028\n",
            "[125]\tvalid_0's binary_logloss: 0.127169\tvalid_0's f1: 0.895028\n",
            "[150]\tvalid_0's binary_logloss: 0.115366\tvalid_0's f1: 0.896679\n",
            "[175]\tvalid_0's binary_logloss: 0.106593\tvalid_0's f1: 0.89464\n",
            "[200]\tvalid_0's binary_logloss: 0.100679\tvalid_0's f1: 0.896679\n",
            "[225]\tvalid_0's binary_logloss: 0.0957439\tvalid_0's f1: 0.902985\n",
            "[250]\tvalid_0's binary_logloss: 0.0908086\tvalid_0's f1: 0.900935\n",
            "[275]\tvalid_0's binary_logloss: 0.0866213\tvalid_0's f1: 0.901304\n",
            "Early stopping, best iteration is:\n",
            "[233]\tvalid_0's binary_logloss: 0.0939656\tvalid_0's f1: 0.906716\n",
            "Training until validation scores don't improve for 50 rounds.\n",
            "[25]\tvalid_0's binary_logloss: 0.327095\tvalid_0's f1: 0.848723\n",
            "[50]\tvalid_0's binary_logloss: 0.230499\tvalid_0's f1: 0.870544\n",
            "[75]\tvalid_0's binary_logloss: 0.178797\tvalid_0's f1: 0.86729\n",
            "[100]\tvalid_0's binary_logloss: 0.148533\tvalid_0's f1: 0.871508\n",
            "[125]\tvalid_0's binary_logloss: 0.130625\tvalid_0's f1: 0.888889\n",
            "[150]\tvalid_0's binary_logloss: 0.117491\tvalid_0's f1: 0.889706\n",
            "[175]\tvalid_0's binary_logloss: 0.109001\tvalid_0's f1: 0.887246\n",
            "Early stopping, best iteration is:\n",
            "[147]\tvalid_0's binary_logloss: 0.119125\tvalid_0's f1: 0.892989\n",
            "Training until validation scores don't improve for 50 rounds.\n",
            "[25]\tvalid_0's binary_logloss: 0.322235\tvalid_0's f1: 0.85214\n",
            "[50]\tvalid_0's binary_logloss: 0.22924\tvalid_0's f1: 0.853432\n",
            "[75]\tvalid_0's binary_logloss: 0.178449\tvalid_0's f1: 0.859779\n",
            "[100]\tvalid_0's binary_logloss: 0.150418\tvalid_0's f1: 0.863971\n",
            "[125]\tvalid_0's binary_logloss: 0.134368\tvalid_0's f1: 0.866055\n",
            "[150]\tvalid_0's binary_logloss: 0.122928\tvalid_0's f1: 0.872458\n",
            "[175]\tvalid_0's binary_logloss: 0.115172\tvalid_0's f1: 0.876155\n",
            "[200]\tvalid_0's binary_logloss: 0.11087\tvalid_0's f1: 0.874074\n",
            "[225]\tvalid_0's binary_logloss: 0.10706\tvalid_0's f1: 0.879852\n",
            "[250]\tvalid_0's binary_logloss: 0.103415\tvalid_0's f1: 0.883117\n",
            "[275]\tvalid_0's binary_logloss: 0.101317\tvalid_0's f1: 0.881041\n",
            "Early stopping, best iteration is:\n",
            "[236]\tvalid_0's binary_logloss: 0.105436\tvalid_0's f1: 0.883117\n",
            "Training until validation scores don't improve for 50 rounds.\n",
            "[25]\tvalid_0's binary_logloss: 0.330424\tvalid_0's f1: 0.813953\n",
            "[50]\tvalid_0's binary_logloss: 0.239654\tvalid_0's f1: 0.827206\n",
            "[75]\tvalid_0's binary_logloss: 0.189518\tvalid_0's f1: 0.832727\n",
            "[100]\tvalid_0's binary_logloss: 0.158521\tvalid_0's f1: 0.853526\n",
            "[125]\tvalid_0's binary_logloss: 0.141406\tvalid_0's f1: 0.854545\n",
            "[150]\tvalid_0's binary_logloss: 0.129673\tvalid_0's f1: 0.859232\n",
            "[175]\tvalid_0's binary_logloss: 0.121205\tvalid_0's f1: 0.866545\n",
            "[200]\tvalid_0's binary_logloss: 0.115035\tvalid_0's f1: 0.869725\n",
            "[225]\tvalid_0's binary_logloss: 0.110223\tvalid_0's f1: 0.875458\n",
            "[250]\tvalid_0's binary_logloss: 0.106265\tvalid_0's f1: 0.880734\n",
            "[275]\tvalid_0's binary_logloss: 0.103774\tvalid_0's f1: 0.883549\n",
            "[300]\tvalid_0's binary_logloss: 0.101119\tvalid_0's f1: 0.883549\n",
            "[325]\tvalid_0's binary_logloss: 0.0983075\tvalid_0's f1: 0.881919\n",
            "Early stopping, best iteration is:\n",
            "[277]\tvalid_0's binary_logloss: 0.103624\tvalid_0's f1: 0.885609\n"
          ],
          "name": "stdout"
        }
      ]
    },
    {
      "cell_type": "markdown",
      "metadata": {
        "id": "C-_1jhERxpJk"
      },
      "source": [
        "Re-fit on all training data using best parameters."
      ]
    },
    {
      "cell_type": "code",
      "metadata": {
        "colab": {
          "base_uri": "https://localhost:8080/"
        },
        "id": "FmXLhO2o7K6a",
        "outputId": "73f581cc-d888-4a39-cff1-f01ffd8d3359"
      },
      "source": [
        "best_estimators = int(np.ceil(np.mean(stopping_rounds)))\r\n",
        "\r\n",
        "lgbm_final =  lgbm\r\n",
        "params_final = {'learning_rate':0.03, 'n_estimators':best_estimators}\r\n",
        "lgbm_final.set_params(**params_final)\r\n",
        "train_pipeline_final = pipe_imb([('sm', sm), ('rus', rus), ('clf', lgbm_final)])\r\n",
        "\r\n",
        "train_pipeline_final.fit(X_train.values, y_train)"
      ],
      "execution_count": null,
      "outputs": [
        {
          "output_type": "execute_result",
          "data": {
            "text/plain": [
              "Pipeline(memory=None,\n",
              "         steps=[('sm',\n",
              "                 BorderlineSMOTE(k_neighbors=5, kind='borderline-1',\n",
              "                                 m_neighbors=10, n_jobs=1, random_state=None,\n",
              "                                 sampling_strategy=0.3)),\n",
              "                ('rus',\n",
              "                 RandomUnderSampler(random_state=None, ratio=None,\n",
              "                                    replacement=False, return_indices=False,\n",
              "                                    sampling_strategy=0.6)),\n",
              "                ('clf',\n",
              "                 LGBMClassifier(boosting_type='gbdt', class_weight=None,\n",
              "                                colsample_bytree=0.6, importance_type='split',\n",
              "                                learning_rate=0.03, max_depth=6,\n",
              "                                min_child_samples=20, min_child_weight=1,\n",
              "                                min_split_gain=0.0, n_estimators=184, n_jobs=-1,\n",
              "                                num_leaves=31, objective='binary',\n",
              "                                random_state=None, reg_alpha=0.0,\n",
              "                                reg_lambda=0.0, silent=True, subsample=0.8,\n",
              "                                subsample_for_bin=200000, subsample_freq=0))],\n",
              "         verbose=False)"
            ]
          },
          "metadata": {
            "tags": []
          },
          "execution_count": 13
        }
      ]
    },
    {
      "cell_type": "markdown",
      "metadata": {
        "id": "vSNBCOSdxvZW"
      },
      "source": [
        "Predict on test set. Note that imblearn's pipeline implementation will only use sampling methods on fit and not predict.\r\n",
        "\r\n",
        "Print precision, recall, f1 and accuracy."
      ]
    },
    {
      "cell_type": "code",
      "metadata": {
        "colab": {
          "base_uri": "https://localhost:8080/"
        },
        "id": "3CjLGYsq8fk7",
        "outputId": "b924f8b5-d858-4346-fc27-33336210513b"
      },
      "source": [
        "preds = train_pipeline_final.predict(X_test.values)\r\n",
        "\r\n",
        "print('Precision: {}'.format(precision_score(y_test, preds)))\r\n",
        "print('Recall: {}'.format(recall_score(y_test, preds)))\r\n",
        "print('F1: {}'.format(f1_score(y_test, preds)))\r\n",
        "print('Accuracy: {}'.format(accuracy_score(y_test, preds)))"
      ],
      "execution_count": null,
      "outputs": [
        {
          "output_type": "stream",
          "text": [
            "Precision: 0.8838526912181303\n",
            "Recall: 0.9541284403669725\n",
            "F1: 0.9176470588235294\n",
            "Accuracy: 0.9723593287265548\n"
          ],
          "name": "stdout"
        }
      ]
    },
    {
      "cell_type": "markdown",
      "metadata": {
        "id": "O7uLfePZyeju"
      },
      "source": [
        "Confusion Matrix using predictions.\r\n",
        "\r\n",
        "\r\n",
        "\r\n",
        "*   False Negative: These are want we want to avoid as it results in a missed customer that churns.\r\n",
        "*   False Positive: Incorrectly predicting a churn. The implications of this depend on the business strategy (e.g. what is the cost of attempting to prevent a churn?).\r\n",
        "\r\n"
      ]
    },
    {
      "cell_type": "code",
      "metadata": {
        "colab": {
          "base_uri": "https://localhost:8080/",
          "height": 296
        },
        "id": "d482crO-U9fX",
        "outputId": "c05bf0c7-0e46-431b-c7a5-e6e658505403"
      },
      "source": [
        "plot_confusion_matrix(train_pipeline_final, X_test.values, y_test)"
      ],
      "execution_count": null,
      "outputs": [
        {
          "output_type": "execute_result",
          "data": {
            "text/plain": [
              "<sklearn.metrics._plot.confusion_matrix.ConfusionMatrixDisplay at 0x7f26da441278>"
            ]
          },
          "metadata": {
            "tags": []
          },
          "execution_count": 15
        },
        {
          "output_type": "display_data",
          "data": {
            "image/png": "[encoded data removed]",
            "text/plain": [
              "<Figure size 432x288 with 2 Axes>"
            ]
          },
          "metadata": {
            "tags": [],
            "needs_background": "light"
          }
        }
      ]
    },
    {
      "cell_type": "markdown",
      "metadata": {
        "id": "htbOAAs0zcH2"
      },
      "source": [
        "Plot feature importances using column names extracted earlier."
      ]
    },
    {
      "cell_type": "code",
      "metadata": {
        "id": "BPs7fGAoXeQP"
      },
      "source": [
        "feat_imp = train_pipeline_final.steps[-1][-1].booster_.feature_importance()\r\n",
        "feat_imp_mapped = dict(zip(column_names, feat_imp))"
      ],
      "execution_count": null,
      "outputs": []
    },
    {
      "cell_type": "code",
      "metadata": {
        "colab": {
          "base_uri": "https://localhost:8080/",
          "height": 536
        },
        "id": "63xe1wITdEP8",
        "outputId": "e01537e7-6fe8-4297-cc31-52724c232dc5"
      },
      "source": [
        "feat_imp_mapped = sorted(feat_imp_mapped.items(), key=lambda x:x[1])\r\n",
        "plt.figure(figsize=(12,9))\r\n",
        "plt.barh(range(len(feat_imp_mapped)), [x[1] for x in feat_imp_mapped], align='center')\r\n",
        "plt.yticks(range(len(feat_imp_mapped)), [x[0] for x in feat_imp_mapped])\r\n",
        "plt.yticks(rotation=0)\r\n",
        "plt.show()"
      ],
      "execution_count": null,
      "outputs": [
        {
          "output_type": "display_data",
          "data": {
            "image/png": "[encoded data removed]",
            "text/plain": [
              "<Figure size 864x648 with 1 Axes>"
            ]
          },
          "metadata": {
            "tags": [],
            "needs_background": "light"
          }
        }
      ]
    },
    {
      "cell_type": "markdown",
      "metadata": {
        "id": "ggAlqopCzh_C"
      },
      "source": [
        "Save trained model and preprocessing pipeline for online inference."
      ]
    },
    {
      "cell_type": "code",
      "metadata": {
        "colab": {
          "base_uri": "https://localhost:8080/"
        },
        "id": "pweT93Tqad6m",
        "outputId": "2792e23e-9529-4a52-87fa-4cd75cf41246"
      },
      "source": [
        "final_model = train_pipeline_final.steps[-1][-1]\r\n",
        "\r\n",
        "final_pipeline = Pipeline([('preprocess', preprocessing_pipeline), ('model', final_model)])\r\n",
        "\r\n",
        "joblib.dump(final_pipeline, 'drive/MyDrive/churn_pipeline.pkl')\r\n"
      ],
      "execution_count": null,
      "outputs": [
        {
          "output_type": "execute_result",
          "data": {
            "text/plain": [
              "['drive/MyDrive/churn_pipeline.pkl']"
            ]
          },
          "metadata": {
            "tags": []
          },
          "execution_count": 18
        }
      ]
    }
  ]
}